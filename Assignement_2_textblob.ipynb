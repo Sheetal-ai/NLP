{
 "cells": [
  {
   "cell_type": "code",
   "execution_count": 9,
   "metadata": {},
   "outputs": [
    {
     "name": "stdout",
     "output_type": "stream",
     "text": [
      "[('Susie', 'NNP'), ('works', 'VBZ'), ('in', 'IN'), ('a', 'DT'), ('shoeshine', 'NN'), ('shop', 'NN'), ('Where', 'WRB'), ('she', 'PRP'), ('shines', 'VBZ'), ('she', 'PRP'), ('sits', 'VBZ'), ('and', 'CC'), ('where', 'WRB'), ('she', 'PRP'), ('sits', 'VBZ'), ('she', 'PRP'), ('shines', 'NNS')]\n"
     ]
    }
   ],
   "source": [
    "#**Question 1.** Write a python program using Textblob in which find out the parts-of-speech(pos) tagging \n",
    "#from the following sentence.\n",
    "\n",
    "text=\"Susie works in a shoeshine shop. Where she shines she sits, and where she sits she shines\"\n",
    "from textblob import TextBlob\n",
    "Textblob = TextBlob(text)\n",
    "#using TextBlob tags functionto print POS\n",
    "print(Textblob.pos_tags)\n",
    "\n"
   ]
  },
  {
   "cell_type": "code",
   "execution_count": 22,
   "metadata": {},
   "outputs": [
    {
     "name": "stdout",
     "output_type": "stream",
     "text": [
      "defaultdict(<class 'int'>, {'how': 1, 'much': 3, 'wood': 4, 'would': 4, 'a': 4, 'woodchuck': 4, 'chuck': 5, 'if': 2, 'could': 3, 'he': 3, 'as': 4, 'and': 1})\n",
      "4\n"
     ]
    }
   ],
   "source": [
    "#**Question 2.** Write a python program using the textblob to find out the count of the common words \n",
    "#from the following sentence.\n",
    "\n",
    "text = '''How much wood would a woodchuck chuck if a woodchuck could chuck wood?\n",
    "He would chuck, he would, as much as he could, and chuck as much wood\n",
    "As a woodchuck would if a woodchuck could chuck wood'''\n",
    "#Find it out how many times 'wood' came in the sentence.\n",
    "#print(dir(Textblob))\n",
    "#Using word counts function\n",
    "count = TextBlob(text).word_counts\n",
    "print(count)\n",
    "#to print wood count\n",
    "print(count['wood'])\n"
   ]
  },
  {
   "cell_type": "code",
   "execution_count": 30,
   "metadata": {},
   "outputs": [
    {
     "name": "stdout",
     "output_type": "stream",
     "text": [
      "\"डेटा एक नया तेल है।\", \"A.I अंतिम आविष्कार है\", \"वह समुंदर के किनारे सीचे बेचता है\", \"उसने तीन मुक्त फेंके\"।\n"
     ]
    }
   ],
   "source": [
    "#Question 3.** Translate the following sentences in your own language using the textblob.\n",
    "\n",
    "text = '''\"Data is a new oil.\", \"A.I is the last invention\", \"She sells seashells by the seashore\", \"He threw three free throws\".'''\n",
    "translator = TextBlob(text)\n",
    "print(translator.translate(to='hi'))\n"
   ]
  },
  {
   "cell_type": "code",
   "execution_count": 36,
   "metadata": {},
   "outputs": [
    {
     "name": "stdout",
     "output_type": "stream",
     "text": [
      "I wan to go to office\n",
      "[('wan', 1.0)]\n"
     ]
    }
   ],
   "source": [
    "#**Question 4.** Create a spell checker program using the textblob library with using your own sentences.\n",
    "print(TextBlob(\"I wan to go to offie\").correct())\n",
    "from textblob import Word\n",
    "print(Word('wan').spellcheck())"
   ]
  },
  {
   "cell_type": "code",
   "execution_count": null,
   "metadata": {},
   "outputs": [],
   "source": []
  }
 ],
 "metadata": {
  "kernelspec": {
   "display_name": "Python 3",
   "language": "python",
   "name": "python3"
  },
  "language_info": {
   "codemirror_mode": {
    "name": "ipython",
    "version": 3
   },
   "file_extension": ".py",
   "mimetype": "text/x-python",
   "name": "python",
   "nbconvert_exporter": "python",
   "pygments_lexer": "ipython3",
   "version": "3.8.3"
  }
 },
 "nbformat": 4,
 "nbformat_minor": 4
}
